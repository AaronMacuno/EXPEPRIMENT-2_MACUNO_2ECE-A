{
 "cells": [
  {
   "cell_type": "markdown",
   "id": "89800409-673f-4183-866f-acc6106e1cc3",
   "metadata": {},
   "source": [
    "# EXPERIMENT 2\n",
    "## Name: Macuno, Aaron Josh F.\n",
    "## Section: 2ECE-A\n",
    "## Date Submitted: September 3, 2024\n",
    "\n",
    "### --------------------------------------------------------------------------------------------------------------------------------"
   ]
  },
  {
   "cell_type": "markdown",
   "id": "6e9e9dd3-2213-4ba2-9d36-5cffcda096cd",
   "metadata": {},
   "source": [
    "### Normalization Problem"
   ]
  },
  {
   "cell_type": "code",
   "execution_count": 100,
   "id": "6f1ebd33-2607-46bf-b432-483614bcb54d",
   "metadata": {},
   "outputs": [
    {
     "name": "stdout",
     "output_type": "stream",
     "text": [
      "\u001b[1m The Matrix is \u001b[0m \n",
      "\n",
      " [[0.52277644 0.69925031 0.42445549 0.05839568 0.9996405 ]\n",
      " [0.45733332 0.65830019 0.96814176 0.7901024  0.64677318]\n",
      " [0.06834332 0.52624782 0.51453095 0.54829027 0.39056383]\n",
      " [0.02259423 0.53222212 0.3186226  0.84269266 0.52289782]\n",
      " [0.3259768  0.96777588 0.84393603 0.81182958 0.54167307]] \n",
      "\n",
      "\u001b[1m The Mean is\u001b[0m 0.5601346500542007 \n",
      "\n",
      "\u001b[1m The Standard Deviation is \u001b[0m 0.26830059507591236 \n",
      "\n",
      "\u001b[1m The Normalized Matrix is \u001b[0m \n",
      "\n",
      " [[-0.13924013  0.5185067  -0.5056983  -1.87006282  1.63810984]\n",
      " [-0.38315728  0.36587897  1.52070894  0.85712723  0.32291589]\n",
      " [-1.83298636 -0.12630172 -0.16997242 -0.04414593 -0.63201806]\n",
      " [-2.00350064 -0.10403454 -0.90015473  1.05313972 -0.13878771]\n",
      " [-0.87274444  1.51934522  1.05777395  0.93810797 -0.06880933]]\n"
     ]
    }
   ],
   "source": [
    "import numpy as np\n",
    "\n",
    "# 5x5 array with random numbers stored in the variable X\n",
    "X = np.random.rand(5, 5)  \n",
    "\n",
    "# Storing the given formula with the variable X_normalized\n",
    "X_normalized = (X - X.mean()) / X.std()\n",
    "\n",
    "# Saving the X_normalized array\n",
    "np.save('X_normalized.npy', X_normalized)\n",
    "\n",
    "print(\"\\033[1m The Matrix is \\033[0m \\n\\n\",X,\n",
    "      \"\\n\\n\" \"\\033[1m The Mean is\\033[0m\", X.mean(),\n",
    "      \"\\n\\n\" \"\\033[1m The Standard Deviation is \\033[0m\", X.std(),\n",
    "      \"\\n\\n\" \"\\033[1m The Normalized Matrix is \\033[0m \\n\\n\", X_normalized)"
   ]
  },
  {
   "cell_type": "markdown",
   "id": "7a9954b7-308d-4933-8e13-d0965e9df95c",
   "metadata": {},
   "source": [
    "### Divisible by 3 Problem "
   ]
  },
  {
   "cell_type": "code",
   "execution_count": 53,
   "id": "be03af30-db39-4897-b189-75e9092324c8",
   "metadata": {},
   "outputs": [
    {
     "name": "stdout",
     "output_type": "stream",
     "text": [
      "\u001b[1m A 10x10 matrix with squared values ranging from 1 to 100 \u001b[0m \n",
      "\n",
      " [[    1     4     9    16    25    36    49    64    81   100]\n",
      " [  121   144   169   196   225   256   289   324   361   400]\n",
      " [  441   484   529   576   625   676   729   784   841   900]\n",
      " [  961  1024  1089  1156  1225  1296  1369  1444  1521  1600]\n",
      " [ 1681  1764  1849  1936  2025  2116  2209  2304  2401  2500]\n",
      " [ 2601  2704  2809  2916  3025  3136  3249  3364  3481  3600]\n",
      " [ 3721  3844  3969  4096  4225  4356  4489  4624  4761  4900]\n",
      " [ 5041  5184  5329  5476  5625  5776  5929  6084  6241  6400]\n",
      " [ 6561  6724  6889  7056  7225  7396  7569  7744  7921  8100]\n",
      " [ 8281  8464  8649  8836  9025  9216  9409  9604  9801 10000]] \n",
      "\n",
      "\u001b[1m A 10x10 matrix ranging from 1 to 100 with numbers only divisible by 3 \u001b[0m \n",
      "\n",
      " [   9   36   81  144  225  324  441  576  729  900 1089 1296 1521 1764\n",
      " 2025 2304 2601 2916 3249 3600 3969 4356 4761 5184 5625 6084 6561 7056\n",
      " 7569 8100 8649 9216 9801]\n"
     ]
    }
   ],
   "source": [
    "import numpy as np\n",
    "\n",
    "# A matrix with 1 to 100 numbers that are given in squared form\n",
    "A = np.arange(1,101)**2\n",
    "\n",
    "# Using the .reshape to reshape the matrix in a 10x10 \n",
    "A = A.reshape(10,10)\n",
    "\n",
    "# A function that will only get those numbers that are divisible by 3\n",
    "def divisibility_by_3(array):\n",
    "    array = array[A%3==0]\n",
    "    return array\n",
    "\n",
    "# Saving the divisibility_by_3 function\n",
    "np.save(\"div_by_3.npy\",divisibility_by_3(A))\n",
    "\n",
    "# Using the div_by_3.npy file and putting it in the said matrix\n",
    "div3_A = np.load(\"div_by_3.npy\")\n",
    "\n",
    "print(\"\\033[1m A 10x10 matrix with squared values ranging from 1 to 100 \\033[0m \\n\\n\", A,\n",
    "     \"\\n\\n\" \"\\033[1m A 10x10 matrix ranging from 1 to 100 with numbers only divisible by 3 \\033[0m \\n\\n\", div3_A )"
   ]
  },
  {
   "cell_type": "code",
   "execution_count": null,
   "id": "3123452e-334b-4db2-8cf1-b5c936f4cb0a",
   "metadata": {},
   "outputs": [],
   "source": []
  }
 ],
 "metadata": {
  "kernelspec": {
   "display_name": "Python 3 (ipykernel)",
   "language": "python",
   "name": "python3"
  },
  "language_info": {
   "codemirror_mode": {
    "name": "ipython",
    "version": 3
   },
   "file_extension": ".py",
   "mimetype": "text/x-python",
   "name": "python",
   "nbconvert_exporter": "python",
   "pygments_lexer": "ipython3",
   "version": "3.12.4"
  }
 },
 "nbformat": 4,
 "nbformat_minor": 5
}
